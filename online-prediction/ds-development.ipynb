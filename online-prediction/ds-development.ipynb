{
 "cells": [
  {
   "cell_type": "code",
   "execution_count": 285,
   "id": "d829d891-7a0e-4f02-b740-99a9c2bfe37f",
   "metadata": {},
   "outputs": [
    {
     "name": "stdout",
     "output_type": "stream",
     "text": [
      "Requirement already satisfied: graphdatascience in /opt/conda/lib/python3.7/site-packages (1.0.0)\n",
      "Requirement already satisfied: pandas<2.0,>=1.0 in /opt/conda/lib/python3.7/site-packages (from graphdatascience) (1.3.5)\n",
      "Requirement already satisfied: neo4j<5.0,>=4.4.2 in /opt/conda/lib/python3.7/site-packages (from graphdatascience) (4.4.4)\n",
      "Requirement already satisfied: pytz in /opt/conda/lib/python3.7/site-packages (from neo4j<5.0,>=4.4.2->graphdatascience) (2022.1)\n",
      "Requirement already satisfied: python-dateutil>=2.7.3 in /opt/conda/lib/python3.7/site-packages (from pandas<2.0,>=1.0->graphdatascience) (2.8.2)\n",
      "Requirement already satisfied: numpy>=1.17.3 in /opt/conda/lib/python3.7/site-packages (from pandas<2.0,>=1.0->graphdatascience) (1.21.6)\n",
      "Requirement already satisfied: six>=1.5 in /opt/conda/lib/python3.7/site-packages (from python-dateutil>=2.7.3->pandas<2.0,>=1.0->graphdatascience) (1.16.0)\n"
     ]
    }
   ],
   "source": [
    "!pip install graphdatascience"
   ]
  },
  {
   "cell_type": "code",
   "execution_count": 286,
   "id": "fec4593e-0ccc-44e3-9775-505f1e5ecacd",
   "metadata": {},
   "outputs": [],
   "source": [
    "from graphdatascience import GraphDataScience\n",
    "import pandas as pd\n",
    "import configparser\n",
    "from datetime import datetime, timedelta"
   ]
  },
  {
   "cell_type": "code",
   "execution_count": 287,
   "id": "59e500e6-ee25-404c-8c31-2dbc2acc6776",
   "metadata": {},
   "outputs": [],
   "source": [
    "config = configparser.RawConfigParser()\n",
    "config.read('aura.ini')\n",
    "HOST = config['NEO4J']['HOST']\n",
    "USERNAME = config['NEO4J']['USERNAME']\n",
    "PASSWORD = config['NEO4J']['PASSWORD']\n",
    "\n",
    "gds = GraphDataScience(HOST, auth=(USERNAME, PASSWORD), aura_ds=True)"
   ]
  },
  {
   "cell_type": "code",
   "execution_count": 288,
   "id": "d77fa479-34db-4f96-840b-a996c63cca6f",
   "metadata": {},
   "outputs": [],
   "source": [
    "def clear_graph_by_name(g_name):\n",
    "    if gds.graph.exists(g_name).exists:\n",
    "        g = gds.graph.get(g_name)\n",
    "        gds.graph.drop(g)\n",
    "\n",
    "def clear_all_graphs():\n",
    "    g_names = gds.graph.list().graphName.tolist()\n",
    "    for g_name in g_names:\n",
    "        g = gds.graph.get(g_name)\n",
    "        gds.graph.drop(g)"
   ]
  },
  {
   "cell_type": "code",
   "execution_count": 289,
   "id": "ade759e1-490d-4459-9b1c-c5c8b287494a",
   "metadata": {},
   "outputs": [
    {
     "data": {
      "text/html": [
       "<div>\n",
       "<style scoped>\n",
       "    .dataframe tbody tr th:only-of-type {\n",
       "        vertical-align: middle;\n",
       "    }\n",
       "\n",
       "    .dataframe tbody tr th {\n",
       "        vertical-align: top;\n",
       "    }\n",
       "\n",
       "    .dataframe thead th {\n",
       "        text-align: right;\n",
       "    }\n",
       "</style>\n",
       "<table border=\"1\" class=\"dataframe\">\n",
       "  <thead>\n",
       "    <tr style=\"text-align: right;\">\n",
       "      <th></th>\n",
       "    </tr>\n",
       "  </thead>\n",
       "  <tbody>\n",
       "  </tbody>\n",
       "</table>\n",
       "</div>"
      ],
      "text/plain": [
       "Empty DataFrame\n",
       "Columns: []\n",
       "Index: []"
      ]
     },
     "execution_count": 289,
     "metadata": {},
     "output_type": "execute_result"
    }
   ],
   "source": [
    "gds.run_cypher('CREATE INDEX purchase_date IF NOT EXISTS FOR ()-[r:PURCHASED]-() ON (r.transactionDate)')"
   ]
  },
  {
   "cell_type": "code",
   "execution_count": 290,
   "id": "4ed90dff-64f4-4308-8907-9559c236594c",
   "metadata": {},
   "outputs": [],
   "source": [
    "max_purchase_date = gds.run_cypher('MATCH(:Customer)-[r:PURCHASED]->() RETURN max(r.transactionDate) AS maxDate')['maxDate'][0]\n",
    "cutoff_date = datetime(year=max_purchase_date.year, month=max_purchase_date.month, day=max_purchase_date.day) - timedelta(days=7)"
   ]
  },
  {
   "cell_type": "code",
   "execution_count": 291,
   "id": "876272d5-8371-41f2-94fd-cc51f05ba8a2",
   "metadata": {},
   "outputs": [
    {
     "data": {
      "text/html": [
       "<div>\n",
       "<style scoped>\n",
       "    .dataframe tbody tr th:only-of-type {\n",
       "        vertical-align: middle;\n",
       "    }\n",
       "\n",
       "    .dataframe tbody tr th {\n",
       "        vertical-align: top;\n",
       "    }\n",
       "\n",
       "    .dataframe thead th {\n",
       "        text-align: right;\n",
       "    }\n",
       "</style>\n",
       "<table border=\"1\" class=\"dataframe\">\n",
       "  <thead>\n",
       "    <tr style=\"text-align: right;\">\n",
       "      <th></th>\n",
       "      <th>count(*)</th>\n",
       "    </tr>\n",
       "  </thead>\n",
       "  <tbody>\n",
       "    <tr>\n",
       "      <th>0</th>\n",
       "      <td>266364</td>\n",
       "    </tr>\n",
       "  </tbody>\n",
       "</table>\n",
       "</div>"
      ],
      "text/plain": [
       "   count(*)\n",
       "0    266364"
      ]
     },
     "execution_count": 291,
     "metadata": {},
     "output_type": "execute_result"
    }
   ],
   "source": [
    "gds.run_cypher('''\n",
    "    MATCH(c:Customer)-[r:PURCHASED]->(a) \n",
    "    WHERE r.transactionDate >= date($cutoffDate)\n",
    "    WITH c, a, r\n",
    "    CALL {\n",
    "    WITH c, a, r\n",
    "        CREATE(c)-[h:RECENTLY_PURCHASED {transactionDate:r.transactionDate, transactionId:r.transactionId}]->(a) \n",
    "    }  IN TRANSACTIONS OF 100000 ROWS\n",
    "    RETURN count(*)\n",
    "''', params={'cutoffDate':str(cutoff_date)[:10]})"
   ]
  },
  {
   "cell_type": "code",
   "execution_count": 292,
   "id": "6eaf342a-ccf2-48a0-9240-206dafcb06a0",
   "metadata": {},
   "outputs": [
    {
     "name": "stdout",
     "output_type": "stream",
     "text": [
      "CPU times: user 47.6 ms, sys: 19.4 ms, total: 67 ms\n",
      "Wall time: 19min 15s\n"
     ]
    },
    {
     "data": {
      "text/html": [
       "<div>\n",
       "<style scoped>\n",
       "    .dataframe tbody tr th:only-of-type {\n",
       "        vertical-align: middle;\n",
       "    }\n",
       "\n",
       "    .dataframe tbody tr th {\n",
       "        vertical-align: top;\n",
       "    }\n",
       "\n",
       "    .dataframe thead th {\n",
       "        text-align: right;\n",
       "    }\n",
       "</style>\n",
       "<table border=\"1\" class=\"dataframe\">\n",
       "  <thead>\n",
       "    <tr style=\"text-align: right;\">\n",
       "      <th></th>\n",
       "      <th>count(*)</th>\n",
       "    </tr>\n",
       "  </thead>\n",
       "  <tbody>\n",
       "    <tr>\n",
       "      <th>0</th>\n",
       "      <td>31521960</td>\n",
       "    </tr>\n",
       "  </tbody>\n",
       "</table>\n",
       "</div>"
      ],
      "text/plain": [
       "   count(*)\n",
       "0  31521960"
      ]
     },
     "execution_count": 292,
     "metadata": {},
     "output_type": "execute_result"
    }
   ],
   "source": [
    "%%time\n",
    "gds.run_cypher('''\n",
    "    MATCH(c:Customer)-[r:PURCHASED]->(a) \n",
    "    WHERE r.transactionDate < date($cutoffDate)\n",
    "    WITH c, a, r\n",
    "    CALL {\n",
    "        WITH c, a, r\n",
    "        CREATE(c)-[h:HISTORICALLY_PURCHASED {transactionDate:r.transactionDate, transactionId:r.transactionId}]->(a)\n",
    "    }  IN TRANSACTIONS OF 100000 ROWS\n",
    "    RETURN count(*)\n",
    "''', params={'cutoffDate':str(cutoff_date)[:10]})"
   ]
  },
  {
   "cell_type": "code",
   "execution_count": 293,
   "id": "7c458152-a99d-46c4-ba4a-30ac6e3db821",
   "metadata": {
    "tags": []
   },
   "outputs": [
    {
     "name": "stderr",
     "output_type": "stream",
     "text": [
      "ERROR:neo4j:Failed to write data to connection IPv4Address(('280dbb0d.databases.neo4j.io', 7687)) (IPv4Address(('35.240.86.240', 7687)))\n",
      "ERROR:neo4j:Failed to write data to connection IPv4Address(('280dbb0d.databases.neo4j.io', 7687)) (IPv4Address(('35.240.86.240', 7687)))\n",
      "ERROR:neo4j:Failed to write data to connection IPv4Address(('280dbb0d.databases.neo4j.io', 7687)) (IPv4Address(('35.240.86.240', 7687)))\n",
      "ERROR:neo4j:Failed to write data to connection IPv4Address(('280dbb0d.databases.neo4j.io', 7687)) (IPv4Address(('35.240.86.240', 7687)))\n",
      "ERROR:neo4j:Failed to write data to connection IPv4Address(('280dbb0d.databases.neo4j.io', 7687)) (IPv4Address(('35.240.86.240', 7687)))\n",
      "ERROR:neo4j:Failed to write data to connection IPv4Address(('280dbb0d.databases.neo4j.io', 7687)) (IPv4Address(('35.240.86.240', 7687)))\n"
     ]
    }
   ],
   "source": [
    "g, _ = gds.graph.project('proj',['Customer', 'Article', 'Product'],{\n",
    "    'HISTORICALLY_PURCHASED':{'orientation':'UNDIRECTED'},\n",
    "    'IS_PRODUCT':{'orientation':'UNDIRECTED'},\n",
    "})"
   ]
  },
  {
   "cell_type": "code",
   "execution_count": 294,
   "id": "e9fe6d38-5b42-4229-80ce-7834e500464a",
   "metadata": {},
   "outputs": [
    {
     "data": {
      "text/plain": [
       "writeMillis                                                           2890\n",
       "nodePropertiesWritten                                              1524746\n",
       "componentCount                                                       16572\n",
       "componentDistribution    {'p99': 3, 'min': 1, 'max': 1507255, 'mean': 9...\n",
       "postProcessingMillis                                                   184\n",
       "preProcessingMillis                                                      0\n",
       "computeMillis                                                          323\n",
       "configuration            {'writeConcurrency': 4, 'seedProperty': None, ...\n",
       "Name: 0, dtype: object"
      ]
     },
     "execution_count": 294,
     "metadata": {},
     "output_type": "execute_result"
    }
   ],
   "source": [
    "gds.wcc.write(g, writeProperty='histComponent')"
   ]
  },
  {
   "cell_type": "code",
   "execution_count": 295,
   "id": "9a7c032c-4f89-42e5-a787-d4ef64d60872",
   "metadata": {},
   "outputs": [],
   "source": [
    "g.drop()"
   ]
  },
  {
   "cell_type": "code",
   "execution_count": 296,
   "id": "90c8b258-13da-4a43-94c5-c93b00788453",
   "metadata": {},
   "outputs": [
    {
     "data": {
      "text/html": [
       "<div>\n",
       "<style scoped>\n",
       "    .dataframe tbody tr th:only-of-type {\n",
       "        vertical-align: middle;\n",
       "    }\n",
       "\n",
       "    .dataframe tbody tr th {\n",
       "        vertical-align: top;\n",
       "    }\n",
       "\n",
       "    .dataframe thead th {\n",
       "        text-align: right;\n",
       "    }\n",
       "</style>\n",
       "<table border=\"1\" class=\"dataframe\">\n",
       "  <thead>\n",
       "    <tr style=\"text-align: right;\">\n",
       "      <th></th>\n",
       "      <th>count(n)</th>\n",
       "    </tr>\n",
       "  </thead>\n",
       "  <tbody>\n",
       "    <tr>\n",
       "      <th>0</th>\n",
       "      <td>1356117</td>\n",
       "    </tr>\n",
       "  </tbody>\n",
       "</table>\n",
       "</div>"
      ],
      "text/plain": [
       "   count(n)\n",
       "0   1356117"
      ]
     },
     "execution_count": 296,
     "metadata": {},
     "output_type": "execute_result"
    }
   ],
   "source": [
    "gds.run_cypher('''\n",
    "    MATCH(n) \n",
    "    WITH n.histComponent AS maxComponent, count(n) AS cnt ORDER BY cnt DESC LIMIT 1\n",
    "    MATCH(n:Customer) WHERE n.histComponent = maxComponent\n",
    "    SET n:HistEstCustomer\n",
    "    RETURN count(n)\n",
    "''')"
   ]
  },
  {
   "cell_type": "code",
   "execution_count": 297,
   "id": "9afcb49a-1fdb-491d-ad86-20a918cf88c8",
   "metadata": {},
   "outputs": [
    {
     "data": {
      "text/html": [
       "<div>\n",
       "<style scoped>\n",
       "    .dataframe tbody tr th:only-of-type {\n",
       "        vertical-align: middle;\n",
       "    }\n",
       "\n",
       "    .dataframe tbody tr th {\n",
       "        vertical-align: top;\n",
       "    }\n",
       "\n",
       "    .dataframe thead th {\n",
       "        text-align: right;\n",
       "    }\n",
       "</style>\n",
       "<table border=\"1\" class=\"dataframe\">\n",
       "  <thead>\n",
       "    <tr style=\"text-align: right;\">\n",
       "      <th></th>\n",
       "      <th>count(n)</th>\n",
       "    </tr>\n",
       "  </thead>\n",
       "  <tbody>\n",
       "    <tr>\n",
       "      <th>0</th>\n",
       "      <td>104632</td>\n",
       "    </tr>\n",
       "  </tbody>\n",
       "</table>\n",
       "</div>"
      ],
      "text/plain": [
       "   count(n)\n",
       "0    104632"
      ]
     },
     "execution_count": 297,
     "metadata": {},
     "output_type": "execute_result"
    }
   ],
   "source": [
    "gds.run_cypher('''\n",
    "    MATCH(n) \n",
    "    WITH n.histComponent AS maxComponent, count(n) AS cnt ORDER BY cnt DESC LIMIT 1\n",
    "    MATCH(n:Article) WHERE n.histComponent = maxComponent\n",
    "    SET n:HistEstArticle\n",
    "    RETURN count(n)\n",
    "''')"
   ]
  },
  {
   "cell_type": "code",
   "execution_count": 298,
   "id": "2b76fa85-550e-42ec-9827-2e4ee9917bfb",
   "metadata": {},
   "outputs": [
    {
     "data": {
      "text/html": [
       "<div>\n",
       "<style scoped>\n",
       "    .dataframe tbody tr th:only-of-type {\n",
       "        vertical-align: middle;\n",
       "    }\n",
       "\n",
       "    .dataframe tbody tr th {\n",
       "        vertical-align: top;\n",
       "    }\n",
       "\n",
       "    .dataframe thead th {\n",
       "        text-align: right;\n",
       "    }\n",
       "</style>\n",
       "<table border=\"1\" class=\"dataframe\">\n",
       "  <thead>\n",
       "    <tr style=\"text-align: right;\">\n",
       "      <th></th>\n",
       "      <th>count(n)</th>\n",
       "    </tr>\n",
       "  </thead>\n",
       "  <tbody>\n",
       "    <tr>\n",
       "      <th>0</th>\n",
       "      <td>46500</td>\n",
       "    </tr>\n",
       "  </tbody>\n",
       "</table>\n",
       "</div>"
      ],
      "text/plain": [
       "   count(n)\n",
       "0     46500"
      ]
     },
     "execution_count": 298,
     "metadata": {},
     "output_type": "execute_result"
    }
   ],
   "source": [
    "gds.run_cypher('''\n",
    "    MATCH(n) \n",
    "    WITH n.histComponent AS maxComponent, count(n) AS cnt ORDER BY cnt DESC LIMIT 1\n",
    "    MATCH(n:Product) WHERE n.histComponent = maxComponent\n",
    "    SET n:HistEstProduct\n",
    "    RETURN count(n)\n",
    "''')"
   ]
  },
  {
   "cell_type": "code",
   "execution_count": 352,
   "id": "c9d186e4-7c49-48a1-a9bf-8ae93d699422",
   "metadata": {},
   "outputs": [
    {
     "name": "stdout",
     "output_type": "stream",
     "text": [
      "CPU times: user 42.3 ms, sys: 469 µs, total: 42.8 ms\n",
      "Wall time: 1min 35s\n"
     ]
    }
   ],
   "source": [
    "%%time\n",
    "g, _ = gds.graph.project('proj',['HistEstCustomer', 'HistEstArticle', 'HistEstProduct'],{\n",
    "    'HISTORICALLY_PURCHASED':{'orientation':'UNDIRECTED'},\n",
    "    'IS_PRODUCT':{'orientation':'UNDIRECTED'}}, readConcurrency=20)\n",
    "\n",
    "gds.fastRP.mutate(g, mutateProperty='embedding', embeddingDimension=256, randomSeed=7474, concurrency=20)\n",
    "gds.graph.writeNodeProperties(g, ['embedding'], ['HistEstArticle'])\n",
    "knn_stats = gds.knn.write(g, nodeProperties=['embedding'], nodeLabels=['HistEstArticle'],\n",
    "                  writeRelationshipType='HIST_CUSTOMERS_ALSO_PURCHASED', writeProperty='score', similarityCutoff=0.82,\n",
    "                  sampleRate=1.0,maxIterations=1000, concurrency=20);"
   ]
  },
  {
   "cell_type": "code",
   "execution_count": 353,
   "id": "fac6980a-1f57-4717-b487-17361eb25534",
   "metadata": {},
   "outputs": [],
   "source": [
    "g.drop()"
   ]
  },
  {
   "cell_type": "code",
   "execution_count": 354,
   "id": "ed18e26f-085b-4226-a133-b6eadf52cf59",
   "metadata": {},
   "outputs": [
    {
     "name": "stdout",
     "output_type": "stream",
     "text": [
      "CPU times: user 3.65 s, sys: 24.2 ms, total: 3.67 s\n",
      "Wall time: 24.6 s\n"
     ]
    }
   ],
   "source": [
    "%%time\n",
    "pred_df = gds.run_cypher('''\n",
    "    MATCH(c:HistEstCustomer)-[:RECENTLY_PURCHASED]->()\n",
    "    WITH DISTINCT c\n",
    "    MATCH(c)-[r:HISTORICALLY_PURCHASED]->(a0) WHERE r.transactionDate > date($cutOffDate)\n",
    "    WITH c, a0, r\n",
    "    MATCH(a0)-[s:HIST_CUSTOMERS_ALSO_PURCHASED]->(a)\n",
    "    RETURN c.customerId AS customerId, a.articleId AS articleId, sum(s.score) AS aggScore, max(r.transactionDate)\n",
    "    ORDER BY customerId, aggScore DESC\n",
    "''', params = {'cutOffDate':str(cutoff_date - timedelta(days=42))[:10]})"
   ]
  },
  {
   "cell_type": "code",
   "execution_count": 355,
   "id": "ac96807b-6d10-4b7d-87b8-42bd1b303f18",
   "metadata": {},
   "outputs": [
    {
     "data": {
      "text/html": [
       "<div>\n",
       "<style scoped>\n",
       "    .dataframe tbody tr th:only-of-type {\n",
       "        vertical-align: middle;\n",
       "    }\n",
       "\n",
       "    .dataframe tbody tr th {\n",
       "        vertical-align: top;\n",
       "    }\n",
       "\n",
       "    .dataframe thead th {\n",
       "        text-align: right;\n",
       "    }\n",
       "</style>\n",
       "<table border=\"1\" class=\"dataframe\">\n",
       "  <thead>\n",
       "    <tr style=\"text-align: right;\">\n",
       "      <th></th>\n",
       "      <th>customerId</th>\n",
       "      <th>articleId</th>\n",
       "      <th>aggScore</th>\n",
       "      <th>max(r.transactionDate)</th>\n",
       "    </tr>\n",
       "  </thead>\n",
       "  <tbody>\n",
       "    <tr>\n",
       "      <th>0</th>\n",
       "      <td>0003e867a930d0d6842f923d6ba7c9b77aba33fe2a0fbf...</td>\n",
       "      <td>0621381020</td>\n",
       "      <td>0.827440</td>\n",
       "      <td>2020-09-12</td>\n",
       "    </tr>\n",
       "    <tr>\n",
       "      <th>1</th>\n",
       "      <td>000fb6e772c5d0023892065e659963da90b1866035558e...</td>\n",
       "      <td>0864297004</td>\n",
       "      <td>0.829778</td>\n",
       "      <td>2020-09-10</td>\n",
       "    </tr>\n",
       "    <tr>\n",
       "      <th>2</th>\n",
       "      <td>001324f693acaea0dea35333ba00ccddd0162d8bc81e76...</td>\n",
       "      <td>0786187003</td>\n",
       "      <td>1.729961</td>\n",
       "      <td>2020-08-24</td>\n",
       "    </tr>\n",
       "    <tr>\n",
       "      <th>3</th>\n",
       "      <td>001b09b8679f1efaefebab00c6d7fdeb036e2ca015605f...</td>\n",
       "      <td>0848438002</td>\n",
       "      <td>0.835271</td>\n",
       "      <td>2020-09-03</td>\n",
       "    </tr>\n",
       "    <tr>\n",
       "      <th>4</th>\n",
       "      <td>001b09b8679f1efaefebab00c6d7fdeb036e2ca015605f...</td>\n",
       "      <td>0766495003</td>\n",
       "      <td>0.834960</td>\n",
       "      <td>2020-09-03</td>\n",
       "    </tr>\n",
       "    <tr>\n",
       "      <th>...</th>\n",
       "      <td>...</td>\n",
       "      <td>...</td>\n",
       "      <td>...</td>\n",
       "      <td>...</td>\n",
       "    </tr>\n",
       "    <tr>\n",
       "      <th>65837</th>\n",
       "      <td>fffae8eb3a282d8c43c77dd2ca0621703b71e90904dfde...</td>\n",
       "      <td>0709301001</td>\n",
       "      <td>0.820328</td>\n",
       "      <td>2020-08-12</td>\n",
       "    </tr>\n",
       "    <tr>\n",
       "      <th>65838</th>\n",
       "      <td>fffef3b6b73545df065b521e19f64bf6fe93bfd450ab20...</td>\n",
       "      <td>0908492004</td>\n",
       "      <td>0.836459</td>\n",
       "      <td>2020-08-08</td>\n",
       "    </tr>\n",
       "    <tr>\n",
       "      <th>65839</th>\n",
       "      <td>fffef3b6b73545df065b521e19f64bf6fe93bfd450ab20...</td>\n",
       "      <td>0752945002</td>\n",
       "      <td>0.826642</td>\n",
       "      <td>2020-08-08</td>\n",
       "    </tr>\n",
       "    <tr>\n",
       "      <th>65840</th>\n",
       "      <td>fffef3b6b73545df065b521e19f64bf6fe93bfd450ab20...</td>\n",
       "      <td>0746344002</td>\n",
       "      <td>0.823165</td>\n",
       "      <td>2020-08-08</td>\n",
       "    </tr>\n",
       "    <tr>\n",
       "      <th>65841</th>\n",
       "      <td>fffef3b6b73545df065b521e19f64bf6fe93bfd450ab20...</td>\n",
       "      <td>0908492003</td>\n",
       "      <td>0.820914</td>\n",
       "      <td>2020-08-08</td>\n",
       "    </tr>\n",
       "  </tbody>\n",
       "</table>\n",
       "<p>65842 rows × 4 columns</p>\n",
       "</div>"
      ],
      "text/plain": [
       "                                              customerId   articleId  \\\n",
       "0      0003e867a930d0d6842f923d6ba7c9b77aba33fe2a0fbf...  0621381020   \n",
       "1      000fb6e772c5d0023892065e659963da90b1866035558e...  0864297004   \n",
       "2      001324f693acaea0dea35333ba00ccddd0162d8bc81e76...  0786187003   \n",
       "3      001b09b8679f1efaefebab00c6d7fdeb036e2ca015605f...  0848438002   \n",
       "4      001b09b8679f1efaefebab00c6d7fdeb036e2ca015605f...  0766495003   \n",
       "...                                                  ...         ...   \n",
       "65837  fffae8eb3a282d8c43c77dd2ca0621703b71e90904dfde...  0709301001   \n",
       "65838  fffef3b6b73545df065b521e19f64bf6fe93bfd450ab20...  0908492004   \n",
       "65839  fffef3b6b73545df065b521e19f64bf6fe93bfd450ab20...  0752945002   \n",
       "65840  fffef3b6b73545df065b521e19f64bf6fe93bfd450ab20...  0746344002   \n",
       "65841  fffef3b6b73545df065b521e19f64bf6fe93bfd450ab20...  0908492003   \n",
       "\n",
       "       aggScore max(r.transactionDate)  \n",
       "0      0.827440             2020-09-12  \n",
       "1      0.829778             2020-09-10  \n",
       "2      1.729961             2020-08-24  \n",
       "3      0.835271             2020-09-03  \n",
       "4      0.834960             2020-09-03  \n",
       "...         ...                    ...  \n",
       "65837  0.820328             2020-08-12  \n",
       "65838  0.836459             2020-08-08  \n",
       "65839  0.826642             2020-08-08  \n",
       "65840  0.823165             2020-08-08  \n",
       "65841  0.820914             2020-08-08  \n",
       "\n",
       "[65842 rows x 4 columns]"
      ]
     },
     "execution_count": 355,
     "metadata": {},
     "output_type": "execute_result"
    }
   ],
   "source": [
    "pred_df"
   ]
  },
  {
   "cell_type": "code",
   "execution_count": 315,
   "id": "d02f189f-4a29-41d5-9461-1c99d0694039",
   "metadata": {},
   "outputs": [],
   "source": [
    "obs_df = gds.run_cypher('''\n",
    "    MATCH(c:HistEstCustomer)-[r:RECENTLY_PURCHASED]->(a)\n",
    "    WITH c.customerId AS customerId, a.articleId AS articleId\n",
    "    RETURN customerId, articleId\n",
    "''')"
   ]
  },
  {
   "cell_type": "code",
   "execution_count": 356,
   "id": "31d3e63e-1b27-4bef-b813-16f4ab7679b0",
   "metadata": {},
   "outputs": [],
   "source": [
    "obs_eval_df = obs_df.groupby('customerId').agg({'articleId': lambda x: x.tolist()}).reset_index().rename(columns={'articleId':'observedPurchases'})"
   ]
  },
  {
   "cell_type": "code",
   "execution_count": 357,
   "id": "ccccb4f2-7de4-4084-ade3-82516710c108",
   "metadata": {},
   "outputs": [],
   "source": [
    "pred_eval_df = pred_df.groupby('customerId').agg({'articleId': lambda x: x.tolist()}).reset_index().rename(columns={'articleId':'predictedPurchases'})"
   ]
  },
  {
   "cell_type": "code",
   "execution_count": 358,
   "id": "30771e49-fd01-4c92-a99c-7e91d80c1318",
   "metadata": {},
   "outputs": [
    {
     "data": {
      "text/html": [
       "<div>\n",
       "<style scoped>\n",
       "    .dataframe tbody tr th:only-of-type {\n",
       "        vertical-align: middle;\n",
       "    }\n",
       "\n",
       "    .dataframe tbody tr th {\n",
       "        vertical-align: top;\n",
       "    }\n",
       "\n",
       "    .dataframe thead th {\n",
       "        text-align: right;\n",
       "    }\n",
       "</style>\n",
       "<table border=\"1\" class=\"dataframe\">\n",
       "  <thead>\n",
       "    <tr style=\"text-align: right;\">\n",
       "      <th></th>\n",
       "      <th>customerId</th>\n",
       "      <th>observedPurchases</th>\n",
       "      <th>predictedPurchases</th>\n",
       "    </tr>\n",
       "  </thead>\n",
       "  <tbody>\n",
       "    <tr>\n",
       "      <th>0</th>\n",
       "      <td>0003e867a930d0d6842f923d6ba7c9b77aba33fe2a0fbf...</td>\n",
       "      <td>[0827487003]</td>\n",
       "      <td>[0621381020]</td>\n",
       "    </tr>\n",
       "    <tr>\n",
       "      <th>1</th>\n",
       "      <td>000fb6e772c5d0023892065e659963da90b1866035558e...</td>\n",
       "      <td>[0889669006, 0913272003, 0786022008, 091327200...</td>\n",
       "      <td>[0864297004]</td>\n",
       "    </tr>\n",
       "    <tr>\n",
       "      <th>2</th>\n",
       "      <td>001324f693acaea0dea35333ba00ccddd0162d8bc81e76...</td>\n",
       "      <td>[0868874006, 0707269004, 0707269004]</td>\n",
       "      <td>[0786187003]</td>\n",
       "    </tr>\n",
       "    <tr>\n",
       "      <th>3</th>\n",
       "      <td>001b09b8679f1efaefebab00c6d7fdeb036e2ca015605f...</td>\n",
       "      <td>[0909357001, 0762063001]</td>\n",
       "      <td>[0848438002, 0766495003, 0783738001, 077754100...</td>\n",
       "    </tr>\n",
       "    <tr>\n",
       "      <th>4</th>\n",
       "      <td>001c1f8d70782f450524d3b3f404474dbd4a7d0d2ad78a...</td>\n",
       "      <td>[0898886002]</td>\n",
       "      <td>[0798524001, 0717773005, 0712409005]</td>\n",
       "    </tr>\n",
       "    <tr>\n",
       "      <th>...</th>\n",
       "      <td>...</td>\n",
       "      <td>...</td>\n",
       "      <td>...</td>\n",
       "    </tr>\n",
       "    <tr>\n",
       "      <th>13169</th>\n",
       "      <td>fff052a0464cf292d6b451da9dba86a299c52698a3b8c3...</td>\n",
       "      <td>[0783346023, 0783346023, 0783346001, 0783346001]</td>\n",
       "      <td>[0946748004]</td>\n",
       "    </tr>\n",
       "    <tr>\n",
       "      <th>13170</th>\n",
       "      <td>fff2282977442e327b45d8c89afde25617d00124d0f999...</td>\n",
       "      <td>[0891322004, 0759054001, 0697564010, 089132200...</td>\n",
       "      <td>[0809238001]</td>\n",
       "    </tr>\n",
       "    <tr>\n",
       "      <th>13171</th>\n",
       "      <td>fff4d3a8b1f3b60af93e78c30a7cb4cf75edaf2590d3e5...</td>\n",
       "      <td>[0833459002]</td>\n",
       "      <td>[0809238005, 0809238001, 0739569001, 079734300...</td>\n",
       "    </tr>\n",
       "    <tr>\n",
       "      <th>13172</th>\n",
       "      <td>fffae8eb3a282d8c43c77dd2ca0621703b71e90904dfde...</td>\n",
       "      <td>[0865624003, 0826150005, 0396135007, 081747200...</td>\n",
       "      <td>[0797892005, 0797892004, 0855148001, 090656900...</td>\n",
       "    </tr>\n",
       "    <tr>\n",
       "      <th>13173</th>\n",
       "      <td>fffef3b6b73545df065b521e19f64bf6fe93bfd450ab20...</td>\n",
       "      <td>[0898573003]</td>\n",
       "      <td>[0908492004, 0752945002, 0746344002, 0908492003]</td>\n",
       "    </tr>\n",
       "  </tbody>\n",
       "</table>\n",
       "<p>13174 rows × 3 columns</p>\n",
       "</div>"
      ],
      "text/plain": [
       "                                              customerId  \\\n",
       "0      0003e867a930d0d6842f923d6ba7c9b77aba33fe2a0fbf...   \n",
       "1      000fb6e772c5d0023892065e659963da90b1866035558e...   \n",
       "2      001324f693acaea0dea35333ba00ccddd0162d8bc81e76...   \n",
       "3      001b09b8679f1efaefebab00c6d7fdeb036e2ca015605f...   \n",
       "4      001c1f8d70782f450524d3b3f404474dbd4a7d0d2ad78a...   \n",
       "...                                                  ...   \n",
       "13169  fff052a0464cf292d6b451da9dba86a299c52698a3b8c3...   \n",
       "13170  fff2282977442e327b45d8c89afde25617d00124d0f999...   \n",
       "13171  fff4d3a8b1f3b60af93e78c30a7cb4cf75edaf2590d3e5...   \n",
       "13172  fffae8eb3a282d8c43c77dd2ca0621703b71e90904dfde...   \n",
       "13173  fffef3b6b73545df065b521e19f64bf6fe93bfd450ab20...   \n",
       "\n",
       "                                       observedPurchases  \\\n",
       "0                                           [0827487003]   \n",
       "1      [0889669006, 0913272003, 0786022008, 091327200...   \n",
       "2                   [0868874006, 0707269004, 0707269004]   \n",
       "3                               [0909357001, 0762063001]   \n",
       "4                                           [0898886002]   \n",
       "...                                                  ...   \n",
       "13169   [0783346023, 0783346023, 0783346001, 0783346001]   \n",
       "13170  [0891322004, 0759054001, 0697564010, 089132200...   \n",
       "13171                                       [0833459002]   \n",
       "13172  [0865624003, 0826150005, 0396135007, 081747200...   \n",
       "13173                                       [0898573003]   \n",
       "\n",
       "                                      predictedPurchases  \n",
       "0                                           [0621381020]  \n",
       "1                                           [0864297004]  \n",
       "2                                           [0786187003]  \n",
       "3      [0848438002, 0766495003, 0783738001, 077754100...  \n",
       "4                   [0798524001, 0717773005, 0712409005]  \n",
       "...                                                  ...  \n",
       "13169                                       [0946748004]  \n",
       "13170                                       [0809238001]  \n",
       "13171  [0809238005, 0809238001, 0739569001, 079734300...  \n",
       "13172  [0797892005, 0797892004, 0855148001, 090656900...  \n",
       "13173   [0908492004, 0752945002, 0746344002, 0908492003]  \n",
       "\n",
       "[13174 rows x 3 columns]"
      ]
     },
     "execution_count": 358,
     "metadata": {},
     "output_type": "execute_result"
    }
   ],
   "source": [
    "eval_df = obs_eval_df.merge(pred_eval_df, on='customerId', how='inner')\n",
    "eval_df"
   ]
  },
  {
   "cell_type": "code",
   "execution_count": 359,
   "id": "ad0cfc53-10f2-487d-9094-20e30c348d65",
   "metadata": {},
   "outputs": [],
   "source": [
    "from collections import Counter\n",
    "\n",
    "def average_precision(true_list,predicted_list,at_k):\n",
    "    if not isinstance(predicted_list, list):\n",
    "        return 0.0\n",
    "    true_dict = dict(Counter(true_list))\n",
    "    true_set = set(true_dict.keys())\n",
    "    length_pred = len(predicted_list)\n",
    "    p=0\n",
    "    K = min(at_k,length_pred)\n",
    "    for k in range(1,(K+1)):\n",
    "        v = predicted_list[k-1]\n",
    "        if v in true_list:\n",
    "            p += true_dict[v]*len(true_set.intersection(predicted_list[:k]))/k\n",
    "    return p/min(len(true_set),at_k)"
   ]
  },
  {
   "cell_type": "code",
   "execution_count": 360,
   "id": "7ee45326-7b1d-4707-8334-f355dcb31969",
   "metadata": {},
   "outputs": [
    {
     "data": {
      "text/html": [
       "<div>\n",
       "<style scoped>\n",
       "    .dataframe tbody tr th:only-of-type {\n",
       "        vertical-align: middle;\n",
       "    }\n",
       "\n",
       "    .dataframe tbody tr th {\n",
       "        vertical-align: top;\n",
       "    }\n",
       "\n",
       "    .dataframe thead th {\n",
       "        text-align: right;\n",
       "    }\n",
       "</style>\n",
       "<table border=\"1\" class=\"dataframe\">\n",
       "  <thead>\n",
       "    <tr style=\"text-align: right;\">\n",
       "      <th></th>\n",
       "      <th>customerId</th>\n",
       "      <th>observedPurchases</th>\n",
       "      <th>predictedPurchases</th>\n",
       "      <th>averagePrecisions</th>\n",
       "    </tr>\n",
       "  </thead>\n",
       "  <tbody>\n",
       "    <tr>\n",
       "      <th>0</th>\n",
       "      <td>0003e867a930d0d6842f923d6ba7c9b77aba33fe2a0fbf...</td>\n",
       "      <td>[0827487003]</td>\n",
       "      <td>[0621381020]</td>\n",
       "      <td>0.0</td>\n",
       "    </tr>\n",
       "    <tr>\n",
       "      <th>1</th>\n",
       "      <td>000fb6e772c5d0023892065e659963da90b1866035558e...</td>\n",
       "      <td>[0889669006, 0913272003, 0786022008, 091327200...</td>\n",
       "      <td>[0864297004]</td>\n",
       "      <td>0.0</td>\n",
       "    </tr>\n",
       "    <tr>\n",
       "      <th>2</th>\n",
       "      <td>001324f693acaea0dea35333ba00ccddd0162d8bc81e76...</td>\n",
       "      <td>[0868874006, 0707269004, 0707269004]</td>\n",
       "      <td>[0786187003]</td>\n",
       "      <td>0.0</td>\n",
       "    </tr>\n",
       "    <tr>\n",
       "      <th>3</th>\n",
       "      <td>001b09b8679f1efaefebab00c6d7fdeb036e2ca015605f...</td>\n",
       "      <td>[0909357001, 0762063001]</td>\n",
       "      <td>[0848438002, 0766495003, 0783738001, 077754100...</td>\n",
       "      <td>0.0</td>\n",
       "    </tr>\n",
       "    <tr>\n",
       "      <th>4</th>\n",
       "      <td>001c1f8d70782f450524d3b3f404474dbd4a7d0d2ad78a...</td>\n",
       "      <td>[0898886002]</td>\n",
       "      <td>[0798524001, 0717773005, 0712409005]</td>\n",
       "      <td>0.0</td>\n",
       "    </tr>\n",
       "    <tr>\n",
       "      <th>...</th>\n",
       "      <td>...</td>\n",
       "      <td>...</td>\n",
       "      <td>...</td>\n",
       "      <td>...</td>\n",
       "    </tr>\n",
       "    <tr>\n",
       "      <th>13169</th>\n",
       "      <td>fff052a0464cf292d6b451da9dba86a299c52698a3b8c3...</td>\n",
       "      <td>[0783346023, 0783346023, 0783346001, 0783346001]</td>\n",
       "      <td>[0946748004]</td>\n",
       "      <td>0.0</td>\n",
       "    </tr>\n",
       "    <tr>\n",
       "      <th>13170</th>\n",
       "      <td>fff2282977442e327b45d8c89afde25617d00124d0f999...</td>\n",
       "      <td>[0891322004, 0759054001, 0697564010, 089132200...</td>\n",
       "      <td>[0809238001]</td>\n",
       "      <td>0.0</td>\n",
       "    </tr>\n",
       "    <tr>\n",
       "      <th>13171</th>\n",
       "      <td>fff4d3a8b1f3b60af93e78c30a7cb4cf75edaf2590d3e5...</td>\n",
       "      <td>[0833459002]</td>\n",
       "      <td>[0809238005, 0809238001, 0739569001, 079734300...</td>\n",
       "      <td>0.0</td>\n",
       "    </tr>\n",
       "    <tr>\n",
       "      <th>13172</th>\n",
       "      <td>fffae8eb3a282d8c43c77dd2ca0621703b71e90904dfde...</td>\n",
       "      <td>[0865624003, 0826150005, 0396135007, 081747200...</td>\n",
       "      <td>[0797892005, 0797892004, 0855148001, 090656900...</td>\n",
       "      <td>0.0</td>\n",
       "    </tr>\n",
       "    <tr>\n",
       "      <th>13173</th>\n",
       "      <td>fffef3b6b73545df065b521e19f64bf6fe93bfd450ab20...</td>\n",
       "      <td>[0898573003]</td>\n",
       "      <td>[0908492004, 0752945002, 0746344002, 0908492003]</td>\n",
       "      <td>0.0</td>\n",
       "    </tr>\n",
       "  </tbody>\n",
       "</table>\n",
       "<p>13174 rows × 4 columns</p>\n",
       "</div>"
      ],
      "text/plain": [
       "                                              customerId  \\\n",
       "0      0003e867a930d0d6842f923d6ba7c9b77aba33fe2a0fbf...   \n",
       "1      000fb6e772c5d0023892065e659963da90b1866035558e...   \n",
       "2      001324f693acaea0dea35333ba00ccddd0162d8bc81e76...   \n",
       "3      001b09b8679f1efaefebab00c6d7fdeb036e2ca015605f...   \n",
       "4      001c1f8d70782f450524d3b3f404474dbd4a7d0d2ad78a...   \n",
       "...                                                  ...   \n",
       "13169  fff052a0464cf292d6b451da9dba86a299c52698a3b8c3...   \n",
       "13170  fff2282977442e327b45d8c89afde25617d00124d0f999...   \n",
       "13171  fff4d3a8b1f3b60af93e78c30a7cb4cf75edaf2590d3e5...   \n",
       "13172  fffae8eb3a282d8c43c77dd2ca0621703b71e90904dfde...   \n",
       "13173  fffef3b6b73545df065b521e19f64bf6fe93bfd450ab20...   \n",
       "\n",
       "                                       observedPurchases  \\\n",
       "0                                           [0827487003]   \n",
       "1      [0889669006, 0913272003, 0786022008, 091327200...   \n",
       "2                   [0868874006, 0707269004, 0707269004]   \n",
       "3                               [0909357001, 0762063001]   \n",
       "4                                           [0898886002]   \n",
       "...                                                  ...   \n",
       "13169   [0783346023, 0783346023, 0783346001, 0783346001]   \n",
       "13170  [0891322004, 0759054001, 0697564010, 089132200...   \n",
       "13171                                       [0833459002]   \n",
       "13172  [0865624003, 0826150005, 0396135007, 081747200...   \n",
       "13173                                       [0898573003]   \n",
       "\n",
       "                                      predictedPurchases  averagePrecisions  \n",
       "0                                           [0621381020]                0.0  \n",
       "1                                           [0864297004]                0.0  \n",
       "2                                           [0786187003]                0.0  \n",
       "3      [0848438002, 0766495003, 0783738001, 077754100...                0.0  \n",
       "4                   [0798524001, 0717773005, 0712409005]                0.0  \n",
       "...                                                  ...                ...  \n",
       "13169                                       [0946748004]                0.0  \n",
       "13170                                       [0809238001]                0.0  \n",
       "13171  [0809238005, 0809238001, 0739569001, 079734300...                0.0  \n",
       "13172  [0797892005, 0797892004, 0855148001, 090656900...                0.0  \n",
       "13173   [0908492004, 0752945002, 0746344002, 0908492003]                0.0  \n",
       "\n",
       "[13174 rows x 4 columns]"
      ]
     },
     "execution_count": 360,
     "metadata": {},
     "output_type": "execute_result"
    }
   ],
   "source": [
    "eval_df['averagePrecisions'] = eval_df.apply(lambda row: average_precision(row.observedPurchases, row.predictedPurchases, 12), axis=1)\n",
    "eval_df"
   ]
  },
  {
   "cell_type": "code",
   "execution_count": 361,
   "id": "a096d730-7807-477c-96fd-5a9e51598518",
   "metadata": {},
   "outputs": [
    {
     "data": {
      "text/plain": [
       "0.005806638831563467"
      ]
     },
     "execution_count": 361,
     "metadata": {},
     "output_type": "execute_result"
    }
   ],
   "source": [
    "eval_df['averagePrecisions'].sum()/eval_df.shape[0]"
   ]
  },
  {
   "cell_type": "code",
   "execution_count": 362,
   "id": "775e79f3-b249-41ec-91d6-dd8bc8503f99",
   "metadata": {},
   "outputs": [
    {
     "data": {
      "text/plain": [
       "265"
      ]
     },
     "execution_count": 362,
     "metadata": {},
     "output_type": "execute_result"
    }
   ],
   "source": [
    "pd.set_option(\"display.max_rows\", 4000)\n",
    "eval_df[eval_df['averagePrecisions'] > 0.0].shape[0]"
   ]
  }
 ],
 "metadata": {
  "environment": {
   "kernel": "python3",
   "name": "tf2-gpu.2-8.m93",
   "type": "gcloud",
   "uri": "gcr.io/deeplearning-platform-release/tf2-gpu.2-8:m93"
  },
  "kernelspec": {
   "display_name": "Python 3",
   "language": "python",
   "name": "python3"
  },
  "language_info": {
   "codemirror_mode": {
    "name": "ipython",
    "version": 3
   },
   "file_extension": ".py",
   "mimetype": "text/x-python",
   "name": "python",
   "nbconvert_exporter": "python",
   "pygments_lexer": "ipython3",
   "version": "3.7.12"
  }
 },
 "nbformat": 4,
 "nbformat_minor": 5
}
